{
 "cells": [
  {
   "cell_type": "markdown",
   "id": "9cbbf881",
   "metadata": {},
   "source": [
    "Translate Library"
   ]
  },
  {
   "cell_type": "code",
   "execution_count": 29,
   "id": "2439678e",
   "metadata": {},
   "outputs": [
    {
     "name": "stdout",
     "output_type": "stream",
     "text": [
      "Requirement already satisfied: translate in /Users/noorfatimaabid/miniconda3/lib/python3.13/site-packages (3.6.1)\n",
      "Requirement already satisfied: click in /Users/noorfatimaabid/miniconda3/lib/python3.13/site-packages (from translate) (8.2.1)\n",
      "Requirement already satisfied: lxml in /Users/noorfatimaabid/miniconda3/lib/python3.13/site-packages (from translate) (6.0.1)\n",
      "Requirement already satisfied: requests in /Users/noorfatimaabid/miniconda3/lib/python3.13/site-packages (from translate) (2.32.3)\n",
      "Requirement already satisfied: libretranslatepy==2.1.1 in /Users/noorfatimaabid/miniconda3/lib/python3.13/site-packages (from translate) (2.1.1)\n",
      "Requirement already satisfied: charset-normalizer<4,>=2 in /Users/noorfatimaabid/miniconda3/lib/python3.13/site-packages (from requests->translate) (3.3.2)\n",
      "Requirement already satisfied: idna<4,>=2.5 in /Users/noorfatimaabid/miniconda3/lib/python3.13/site-packages (from requests->translate) (2.10)\n",
      "Requirement already satisfied: urllib3<3,>=1.21.1 in /Users/noorfatimaabid/miniconda3/lib/python3.13/site-packages (from requests->translate) (2.3.0)\n",
      "Requirement already satisfied: certifi>=2017.4.17 in /Users/noorfatimaabid/miniconda3/lib/python3.13/site-packages (from requests->translate) (2025.8.3)\n"
     ]
    }
   ],
   "source": [
    "!pip install translate"
   ]
  },
  {
   "cell_type": "code",
   "execution_count": 44,
   "id": "42c39789",
   "metadata": {},
   "outputs": [
    {
     "name": "stdout",
     "output_type": "stream",
     "text": [
      "یہ ایک مفید لائبریری ہے!\n"
     ]
    }
   ],
   "source": [
    "#Translate text to another language\n",
    "from translate import Translator \n",
    "translator= Translator(from_lang=\"en\", to_lang=\"ur\")\n",
    "translation=translator.translate(\"This is a useful library!\")\n",
    "print(translation)"
   ]
  }
 ],
 "metadata": {
  "kernelspec": {
   "display_name": "base",
   "language": "python",
   "name": "python3"
  },
  "language_info": {
   "codemirror_mode": {
    "name": "ipython",
    "version": 3
   },
   "file_extension": ".py",
   "mimetype": "text/x-python",
   "name": "python",
   "nbconvert_exporter": "python",
   "pygments_lexer": "ipython3",
   "version": "3.13.2"
  }
 },
 "nbformat": 4,
 "nbformat_minor": 5
}
