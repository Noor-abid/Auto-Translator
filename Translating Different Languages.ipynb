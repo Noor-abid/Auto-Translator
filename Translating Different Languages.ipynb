{
 "cells": [
  {
   "cell_type": "markdown",
   "id": "9cbbf881",
   "metadata": {},
   "source": [
    "Translate Library"
   ]
  },
  {
   "cell_type": "code",
   "execution_count": null,
   "id": "2439678e",
   "metadata": {},
   "outputs": [],
   "source": [
    "!pip install translate"
   ]
  },
  {
   "cell_type": "code",
   "execution_count": null,
   "id": "42c39789",
   "metadata": {},
   "outputs": [],
   "source": [
    "#Translate text to another language\n",
    "from translate import Translator \n",
    "translator= Translator(from_lang=\"en\", to_lang=\"ur\")\n",
    "translation=translator.translate(\"This is a useful library!\")\n",
    "print(translation)"
   ]
  }
 ],
 "metadata": {
  "kernelspec": {
   "display_name": "base",
   "language": "python",
   "name": "python3"
  },
  "language_info": {
   "codemirror_mode": {
    "name": "ipython",
    "version": 3
   },
   "file_extension": ".py",
   "mimetype": "text/x-python",
   "name": "python",
   "nbconvert_exporter": "python",
   "pygments_lexer": "ipython3",
   "version": "3.13.2"
  }
 },
 "nbformat": 4,
 "nbformat_minor": 5
}
